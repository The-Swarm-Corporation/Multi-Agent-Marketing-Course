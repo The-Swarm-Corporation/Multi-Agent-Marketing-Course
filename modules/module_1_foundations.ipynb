{
 "cells": [
  {
   "cell_type": "markdown",
   "id": "fc8ba8e4",
   "metadata": {},
   "source": [
    "\n",
    "# Module 1: Foundations of Multi-Agent Marketing Systems\n",
    "\n",
    "## Learning Objectives\n",
    "- Understand the fundamentals of multi-agent systems\n",
    "- Learn how to set up and configure the Swarms framework\n",
    "- Create basic marketing-focused agents\n",
    "- Implement simple agent interactions\n",
    "\n",
    "## 1. Introduction to Multi-Agent Systems\n",
    "\n",
    "Multi-agent systems in marketing automate and optimize various marketing operations by leveraging multiple AI agents working together. Each agent specializes in specific tasks while collaborating to achieve broader marketing objectives.\n",
    "\n",
    "### Key Concepts:\n",
    "1. **Agent Specialization**: Different agents handle specific marketing tasks\n",
    "2. **Collaboration**: Agents work together to achieve complex goals\n",
    "3. **Scalability**: Systems can handle multiple channels and campaigns\n",
    "4. **Adaptability**: Workflows adjust based on performance and feedback\n"
   ]
  },
  {
   "cell_type": "markdown",
   "id": "8200f649",
   "metadata": {},
   "source": [
    "\n",
    "## 2. Setting Up Your Environment\n",
    "\n",
    "First, let's install the required packages and set up our environment.\n"
   ]
  },
  {
   "cell_type": "code",
   "execution_count": null,
   "id": "b80f1fc8",
   "metadata": {},
   "outputs": [],
   "source": [
    "#pip install -U swarms python-dotenv"
   ]
  },
  {
   "cell_type": "markdown",
   "id": "3775ef7d",
   "metadata": {},
   "source": [
    "\n",
    "### Configure Environment Variables\n",
    "Create a .env file in your working directory with your API keys:\n"
   ]
  },
  {
   "cell_type": "code",
   "execution_count": null,
   "id": "3a7752fe",
   "metadata": {},
   "outputs": [],
   "source": [
    "%%writefile .env\n",
    "OPENAI_API_KEY=your_openai_api_key_here\n",
    "ANTHROPIC_API_KEY=your_anthropic_api_key_here"
   ]
  },
  {
   "cell_type": "markdown",
   "id": "efb07fd1",
   "metadata": {},
   "source": [
    "\n",
    "## 3. Creating Your First Marketing Agent\n",
    "\n",
    "Let's create a basic marketing content analyzer agent that can evaluate and suggest improvements for marketing copy.\n"
   ]
  },
  {
   "cell_type": "code",
   "execution_count": null,
   "id": "b3584f9d",
   "metadata": {},
   "outputs": [],
   "source": [
    "\n",
    "import os\n",
    "from dotenv import load_dotenv\n",
    "from swarms import Agent\n",
    "from swarm_models import OpenAIChat\n",
    "\n",
    "# Load environment variables\n",
    "load_dotenv()\n",
    "\n",
    "# Initialize the language model\n",
    "model = OpenAIChat(\n",
    "    openai_api_key=os.getenv(\"OPENAI_API_KEY\"),\n",
    "    model_name=\"gpt-4o-mini\",\n",
    "    temperature=0.7\n",
    ")\n",
    "\n",
    "# Define the system prompt for our marketing agent\n",
    "MARKETING_ANALYZER_PROMPT = \"\"\"\n",
    "You are an expert Marketing Content Analyzer with deep knowledge of marketing principles, \n",
    "copywriting, and consumer psychology. Your role is to analyze marketing content and provide \n",
    "actionable improvements. For each piece of content, you should:\n",
    "\n",
    "1. Evaluate the clarity and effectiveness of the message\n",
    "2. Analyze the emotional appeal and persuasive elements\n",
    "3. Check for proper call-to-actions (CTAs)\n",
    "4. Suggest specific improvements\n",
    "5. Rate the content on a scale of 1-10\n",
    "\n",
    "Format your response as:\n",
    "Message Clarity: [Analysis]\n",
    "Emotional Appeal: [Analysis]\n",
    "CTA Effectiveness: [Analysis]\n",
    "Suggested Improvements: [Bullet points]\n",
    "Overall Rating: [1-10]\n",
    "\"\"\"\n",
    "\n",
    "# Create the marketing analyzer agent\n",
    "marketing_analyzer = Agent(\n",
    "    agent_name=\"Marketing-Content-Analyzer\",\n",
    "    system_prompt=MARKETING_ANALYZER_PROMPT,\n",
    "    llm=model,\n",
    "    max_loops=1,\n",
    "    dashboard=False,\n",
    "    verbose=True\n",
    ")"
   ]
  },
  {
   "cell_type": "markdown",
   "id": "132ea070",
   "metadata": {},
   "source": [
    "\n",
    "### Test the Marketing Analyzer\n",
    "\n",
    "Let's test our agent with a sample marketing message:\n"
   ]
  },
  {
   "cell_type": "code",
   "execution_count": null,
   "id": "c4d84ab1",
   "metadata": {},
   "outputs": [],
   "source": [
    "\n",
    "sample_content = \"\"\"\n",
    "Introducing our new AI-powered productivity app! \n",
    "Get more done in less time with smart task management \n",
    "and automated scheduling. Perfect for busy professionals. \n",
    "Download now and boost your productivity!\n",
    "\"\"\"\n",
    "\n",
    "analysis = marketing_analyzer.run(sample_content)\n",
    "print(analysis)"
   ]
  },
  {
   "cell_type": "markdown",
   "id": "3c9bdb4c",
   "metadata": {},
   "source": [
    "\n",
    "## 4. Creating a Social Media Post Generator\n",
    "\n",
    "Now let's create another agent that specializes in generating social media posts based on marketing objectives.\n"
   ]
  },
  {
   "cell_type": "code",
   "execution_count": null,
   "id": "1ec4162d",
   "metadata": {},
   "outputs": [],
   "source": [
    "\n",
    "SOCIAL_MEDIA_GENERATOR_PROMPT = \"\"\"\n",
    "You are an expert Social Media Content Generator specializing in creating engaging posts \n",
    "for different platforms. For each content request, you should:\n",
    "\n",
    "1. Generate platform-specific content (Twitter, LinkedIn, Instagram)\n",
    "2. Include relevant hashtags\n",
    "3. Optimize content length for each platform\n",
    "4. Create engaging hooks\n",
    "5. Include appropriate calls-to-action\n",
    "\n",
    "Format your response as:\n",
    "Twitter:\n",
    "[Content]\n",
    "[Hashtags]\n",
    "\n",
    "LinkedIn:\n",
    "[Content]\n",
    "[Hashtags]\n",
    "\n",
    "Instagram:\n",
    "[Content]\n",
    "[Hashtags]\n",
    "\"\"\"\n",
    "\n",
    "social_media_generator = Agent(\n",
    "    agent_name=\"Social-Media-Generator\",\n",
    "    system_prompt=SOCIAL_MEDIA_GENERATOR_PROMPT,\n",
    "    llm=model,\n",
    "    max_loops=1,\n",
    "    dashboard=False,\n",
    "    verbose=True\n",
    ")"
   ]
  },
  {
   "cell_type": "markdown",
   "id": "120260c8",
   "metadata": {},
   "source": [
    "\n",
    "### Test the Social Media Generator\n",
    "\n",
    "Let's generate some social media posts for our sample product:\n"
   ]
  },
  {
   "cell_type": "code",
   "execution_count": null,
   "id": "6dc96a50",
   "metadata": {},
   "outputs": [],
   "source": [
    "\n",
    "product_brief = \"\"\"\n",
    "Product: AI Productivity App\n",
    "Key Features:\n",
    "- Smart task prioritization\n",
    "- Automated calendar scheduling\n",
    "- AI-powered productivity insights\n",
    "- Team collaboration tools\n",
    "\n",
    "Target Audience: Busy professionals and teams\n",
    "Call to Action: Download from App Store/Play Store\n",
    "\"\"\"\n",
    "\n",
    "social_posts = social_media_generator.run(product_brief)\n",
    "print(social_posts)"
   ]
  },
  {
   "cell_type": "markdown",
   "id": "8d216b8d",
   "metadata": {},
   "source": [
    "\n",
    "## 5. Basic Agent Collaboration\n",
    "\n",
    "Now let's create a simple workflow where the Social Media Generator creates content and the Marketing Analyzer evaluates it.\n"
   ]
  },
  {
   "cell_type": "code",
   "execution_count": null,
   "id": "2694f927",
   "metadata": {},
   "outputs": [],
   "source": [
    "\n",
    "from swarms import SequentialWorkflow\n",
    "\n",
    "# Create a sequential workflow\n",
    "marketing_workflow = SequentialWorkflow(\n",
    "    name=\"content-creation-workflow\",\n",
    "    agents=[social_media_generator, marketing_analyzer]\n",
    ")\n",
    "\n",
    "# Run the workflow\n",
    "result = marketing_workflow.run(product_brief)\n",
    "print(\"Final Analysis:\\n\", result)"
   ]
  },
  {
   "cell_type": "markdown",
   "id": "38510942",
   "metadata": {},
   "source": [
    "\n",
    "## Practice Exercises\n",
    "\n",
    "1. Modify the Marketing Analyzer's system prompt to include brand voice analysis\n",
    "2. Create a new agent that specializes in hashtag research and optimization\n",
    "3. Build a workflow that generates and analyzes content for a different type of product\n",
    "\n",
    "## Next Steps\n",
    "\n",
    "In the next module, we'll explore:\n",
    "- Creating more specialized marketing agents\n",
    "- Implementing complex workflows\n",
    "- Adding error handling and validation\n",
    "- Integrating with marketing APIs\n",
    "\n",
    "## Additional Resources\n",
    "\n",
    "- [Swarms Documentation](https://docs.swarms.world)\n",
    "- [Marketing Agents Examples](https://github.com/The-Swarm-Corporation/swarms-examples)\n",
    "- [OpenAI Documentation](https://platform.openai.com/docs)\n"
   ]
  }
 ],
 "metadata": {
  "language_info": {
   "name": "python"
  }
 },
 "nbformat": 4,
 "nbformat_minor": 5
}
